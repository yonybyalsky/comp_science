{
 "cells": [
  {
   "cell_type": "markdown",
   "id": "1e0b6fd4",
   "metadata": {},
   "source": [
    "## K-Nearest Neighbor Classifier from scratch"
   ]
  },
  {
   "cell_type": "markdown",
   "id": "775193aa",
   "metadata": {},
   "source": [
    "### Name:"
   ]
  },
  {
   "cell_type": "code",
   "execution_count": 1,
   "id": "36e8424a",
   "metadata": {},
   "outputs": [],
   "source": [
    "%matplotlib inline\n",
    "\n",
    "import numpy as np\n",
    "import matplotlib.pyplot as plt\n",
    "import seaborn as sns; sns.set()"
   ]
  },
  {
   "cell_type": "markdown",
   "id": "7825e8ad",
   "metadata": {},
   "source": [
    "## Example 1 Data:"
   ]
  },
  {
   "cell_type": "code",
   "execution_count": 2,
   "id": "32d75dc0",
   "metadata": {},
   "outputs": [
    {
     "data": {
      "image/png": "[encoded data removed]",
      "text/plain": [
       "<Figure size 640x480 with 1 Axes>"
      ]
     },
     "metadata": {},
     "output_type": "display_data"
    }
   ],
   "source": [
    "from sklearn.datasets import make_blobs\n",
    "\n",
    "import matplotlib.pyplot as plt\n",
    "import numpy as np\n",
    "\n",
    "centers = [[2, 3], [5, 5], [1, 8]]\n",
    "n_classes = len(centers)\n",
    "data, labels = make_blobs(n_samples=150, centers=np.array(centers),random_state=1)\n",
    "\n",
    "colours = ('green', 'red', 'blue')\n",
    "n_classes = 3\n",
    "\n",
    "\n",
    "fig, ax = plt.subplots()\n",
    "for n_class in range(0, n_classes):\n",
    "    ax.scatter(data[labels==n_class, 0], data[labels==n_class, 1], \n",
    "               c=colours[n_class], s=10, label=str(n_class))\n",
    "\n",
    "ax.legend(loc='upper right');"
   ]
  },
  {
   "cell_type": "markdown",
   "id": "35c67fa7",
   "metadata": {},
   "source": [
    "## Creating the learnset"
   ]
  },
  {
   "cell_type": "code",
   "execution_count": 3,
   "id": "2a1b37eb",
   "metadata": {},
   "outputs": [],
   "source": [
    "from sklearn.model_selection import train_test_split\n",
    "\n",
    "Xtrain1, Xtest1, ytrain1, ytest1 = train_test_split(data,labels,test_size=0.2,random_state=42)"
   ]
  },
  {
   "cell_type": "markdown",
   "id": "1ba17feb",
   "metadata": {},
   "source": [
    "## KNN class "
   ]
  },
  {
   "cell_type": "code",
   "execution_count": 4,
   "id": "65088c6b",
   "metadata": {},
   "outputs": [],
   "source": [
    "from scipy import stats\n",
    "\n",
    "class KNN():\n",
    "    \n",
    "    def __init__(self, k=3):\n",
    "        self.k = k # the number of nearest neighbores \n",
    "        self.Xtrain = None\n",
    "        self.ytrain = None\n",
    "        \n",
    "    def distance (self,x1,x2):\n",
    "        return np.sqrt(np.sum(x1-x2)**2)\n",
    "    \n",
    "    def fit (self, X,y):\n",
    "        self.Xtrain = X\n",
    "        self.ytrain = y\n",
    "        \n",
    "    def predict(self, X):\n",
    "        results = np.zeros(len(X))\n",
    "        for i in range(len(X)):\n",
    "            points_dist = []\n",
    "            for j in range(len(self.ytrain)):\n",
    "                points_dist.append([self.distance(X[i], self.Xtrain[j]), self.ytrain[j]])\n",
    "            points_dist = sorted(points_dist, key=lambda x: x[0])\n",
    "            groups = [[0, 0], [1, 0], [2, 0]]\n",
    "            for n in range(self.k):\n",
    "                if points_dist[n][1] == 0:\n",
    "                    groups[0][1] += 1\n",
    "                if points_dist[n][1] == 1:\n",
    "                    groups[1][1] += 1\n",
    "                if points_dist[n][1] == 2:\n",
    "                    groups[2][1] += 1\n",
    "            results[i] = (sorted(groups, key = lambda x: x[1])[2][0])\n",
    "        return results"
   ]
  },
  {
   "cell_type": "code",
   "execution_count": 5,
   "id": "76635f36",
   "metadata": {},
   "outputs": [
    {
     "name": "stdout",
     "output_type": "stream",
     "text": [
      "[2 2 1 2 1 1 1 2 1 1 1 1 2 0 1 1 0 2 2 0 1 1 1 0 0 0 0 0 1 0]\n",
      "[2 2 1 2 1 1 1 1 2 1 1 1 2 0 1 1 2 1 2 0 2 1 2 0 0 2 0 0 1 0]\n"
     ]
    }
   ],
   "source": [
    "model = KNN(k=5)\n",
    "model.fit(Xtrain1, ytrain1)\n",
    "preds = model.predict(Xtest1)\n",
    "print(preds.astype(int))\n",
    "print(ytest1)"
   ]
  },
  {
   "cell_type": "markdown",
   "id": "092e74be",
   "metadata": {},
   "source": [
    "## Accuracy"
   ]
  },
  {
   "cell_type": "code",
   "execution_count": 6,
   "id": "eda1e0e5",
   "metadata": {},
   "outputs": [
    {
     "data": {
      "text/plain": [
       "0.7666666666666667"
      ]
     },
     "execution_count": 6,
     "metadata": {},
     "output_type": "execute_result"
    }
   ],
   "source": [
    "from sklearn.metrics import accuracy_score\n",
    "accuracy_score(ytest1, preds)"
   ]
  },
  {
   "cell_type": "markdown",
   "id": "d310efc4",
   "metadata": {},
   "source": [
    "## Example 2 Data:"
   ]
  },
  {
   "cell_type": "code",
   "execution_count": 7,
   "id": "46ff4e44",
   "metadata": {},
   "outputs": [],
   "source": [
    "from sklearn.datasets import load_breast_cancer\n",
    "\n",
    "data = load_breast_cancer()\n",
    "X = data.data\n",
    "y = data.target \n",
    "\n",
    "Xtrain2, Xtest2, ytrain2, ytest2 = train_test_split(X, y, test_size=0.3, random_state=42)"
   ]
  },
  {
   "cell_type": "code",
   "execution_count": 8,
   "id": "8633f8dd",
   "metadata": {},
   "outputs": [
    {
     "name": "stdout",
     "output_type": "stream",
     "text": [
      "0.9298245614035088\n"
     ]
    }
   ],
   "source": [
    "model = KNN()\n",
    "model.fit(Xtrain2, ytrain2)\n",
    "preds = model.predict(Xtest2)\n",
    "\n",
    "print(accuracy_score(ytest2, preds))"
   ]
  },
  {
   "cell_type": "markdown",
   "id": "4e067026",
   "metadata": {},
   "source": [
    "## Determining the Optimal k Value\n",
    "Plot the accuracy as function of k. Find the optimal value of k"
   ]
  },
  {
   "cell_type": "code",
   "execution_count": 9,
   "id": "57a9e431",
   "metadata": {},
   "outputs": [],
   "source": [
    "accuracy_arr = np.zeros(10)\n",
    "n = 0\n",
    "for k in range(1,20,2):\n",
    "    model = KNN(k=k)\n",
    "    model.fit(Xtrain2, ytrain2)\n",
    "    preds = model.predict(Xtest2)\n",
    "    accuracy_arr[n] = accuracy_score(ytest2, preds)\n",
    "    n+=1"
   ]
  },
  {
   "cell_type": "code",
   "execution_count": 10,
   "id": "679c386c-c632-4cd7-800d-f8b5e365f636",
   "metadata": {},
   "outputs": [
    {
     "data": {
      "text/plain": [
       "0.9415204678362573"
      ]
     },
     "execution_count": 10,
     "metadata": {},
     "output_type": "execute_result"
    }
   ],
   "source": [
    "accuracy_arr.max()"
   ]
  },
  {
   "cell_type": "markdown",
   "id": "01733297",
   "metadata": {},
   "source": [
    "## Plot"
   ]
  },
  {
   "cell_type": "code",
   "execution_count": 11,
   "id": "dfafee70",
   "metadata": {},
   "outputs": [
    {
     "data": {
      "text/plain": [
       "[<matplotlib.lines.Line2D at 0x1cf8a6fdb10>]"
      ]
     },
     "execution_count": 11,
     "metadata": {},
     "output_type": "execute_result"
    },
    {
     "data": {
      "image/png": "[encoded data removed]",
      "text/plain": [
       "<Figure size 640x480 with 1 Axes>"
      ]
     },
     "metadata": {},
     "output_type": "display_data"
    }
   ],
   "source": [
    "plt.plot([k for k in range(1, 20, 2)], accuracy_arr)"
   ]
  },
  {
   "cell_type": "markdown",
   "id": "be3c0f76",
   "metadata": {},
   "source": [
    "## Using Scikit-Learn"
   ]
  },
  {
   "cell_type": "code",
   "execution_count": 12,
   "id": "776fee14",
   "metadata": {},
   "outputs": [
    {
     "name": "stdout",
     "output_type": "stream",
     "text": [
      "0.9590643274853801\n"
     ]
    }
   ],
   "source": [
    "from sklearn.neighbors import KNeighborsClassifier\n",
    "\n",
    "knn = KNeighborsClassifier()\n",
    "knn.fit(Xtrain2, ytrain2) \n",
    "\n",
    "predicted = knn.predict(Xtest2)\n",
    "print(accuracy_score(ytest2, predicted))"
   ]
  }
 ],
 "metadata": {
  "kernelspec": {
   "display_name": "Python 3 (ipykernel)",
   "language": "python",
   "name": "python3"
  },
  "language_info": {
   "codemirror_mode": {
    "name": "ipython",
    "version": 3
   },
   "file_extension": ".py",
   "mimetype": "text/x-python",
   "name": "python",
   "nbconvert_exporter": "python",
   "pygments_lexer": "ipython3",
   "version": "3.11.5"
  }
 },
 "nbformat": 4,
 "nbformat_minor": 5
}
